{
 "cells": [
  {
   "cell_type": "code",
   "execution_count": 2,
   "metadata": {},
   "outputs": [],
   "source": [
    "import pandas as pd\n",
    "import numpy as np\n",
    "import matplotlib.pyplot as plt\n",
    "%matplotlib inline"
   ]
  },
  {
   "cell_type": "code",
   "execution_count": 45,
   "metadata": {},
   "outputs": [
    {
     "data": {
      "text/html": [
       "<div>\n",
       "<style scoped>\n",
       "    .dataframe tbody tr th:only-of-type {\n",
       "        vertical-align: middle;\n",
       "    }\n",
       "\n",
       "    .dataframe tbody tr th {\n",
       "        vertical-align: top;\n",
       "    }\n",
       "\n",
       "    .dataframe thead th {\n",
       "        text-align: right;\n",
       "    }\n",
       "</style>\n",
       "<table border=\"1\" class=\"dataframe\">\n",
       "  <thead>\n",
       "    <tr style=\"text-align: right;\">\n",
       "      <th></th>\n",
       "      <th>18-24</th>\n",
       "      <th>25-34</th>\n",
       "      <th>35-44</th>\n",
       "      <th>45-54</th>\n",
       "      <th>55-64</th>\n",
       "      <th>65</th>\n",
       "      <th>Female</th>\n",
       "      <th>Gender Variant/Non-Conforming</th>\n",
       "      <th>Male</th>\n",
       "      <th>College</th>\n",
       "      <th>...</th>\n",
       "      <th>White or Caucasian</th>\n",
       "      <th>MFA Familiarity Count</th>\n",
       "      <th>Security Beliefs</th>\n",
       "      <th>Security Importance</th>\n",
       "      <th>Quick Log In Importance</th>\n",
       "      <th>Log In Usability Importance</th>\n",
       "      <th>Log In Convenience Importance</th>\n",
       "      <th>Log In Satisfaction</th>\n",
       "      <th>MFA Opt In Frequency</th>\n",
       "      <th>Present Bias</th>\n",
       "    </tr>\n",
       "  </thead>\n",
       "  <tbody>\n",
       "    <tr>\n",
       "      <th>0</th>\n",
       "      <td>0</td>\n",
       "      <td>0</td>\n",
       "      <td>1</td>\n",
       "      <td>0</td>\n",
       "      <td>0</td>\n",
       "      <td>0</td>\n",
       "      <td>1</td>\n",
       "      <td>0</td>\n",
       "      <td>0</td>\n",
       "      <td>0</td>\n",
       "      <td>...</td>\n",
       "      <td>0</td>\n",
       "      <td>4</td>\n",
       "      <td>2</td>\n",
       "      <td>10</td>\n",
       "      <td>9</td>\n",
       "      <td>10</td>\n",
       "      <td>9</td>\n",
       "      <td>8</td>\n",
       "      <td>2</td>\n",
       "      <td>1</td>\n",
       "    </tr>\n",
       "    <tr>\n",
       "      <th>1</th>\n",
       "      <td>0</td>\n",
       "      <td>1</td>\n",
       "      <td>0</td>\n",
       "      <td>0</td>\n",
       "      <td>0</td>\n",
       "      <td>0</td>\n",
       "      <td>1</td>\n",
       "      <td>0</td>\n",
       "      <td>0</td>\n",
       "      <td>0</td>\n",
       "      <td>...</td>\n",
       "      <td>1</td>\n",
       "      <td>6</td>\n",
       "      <td>2</td>\n",
       "      <td>7</td>\n",
       "      <td>10</td>\n",
       "      <td>9</td>\n",
       "      <td>7</td>\n",
       "      <td>8</td>\n",
       "      <td>1</td>\n",
       "      <td>1</td>\n",
       "    </tr>\n",
       "    <tr>\n",
       "      <th>2</th>\n",
       "      <td>0</td>\n",
       "      <td>1</td>\n",
       "      <td>0</td>\n",
       "      <td>0</td>\n",
       "      <td>0</td>\n",
       "      <td>0</td>\n",
       "      <td>0</td>\n",
       "      <td>1</td>\n",
       "      <td>0</td>\n",
       "      <td>0</td>\n",
       "      <td>...</td>\n",
       "      <td>1</td>\n",
       "      <td>4</td>\n",
       "      <td>2</td>\n",
       "      <td>6</td>\n",
       "      <td>8</td>\n",
       "      <td>8</td>\n",
       "      <td>8</td>\n",
       "      <td>7</td>\n",
       "      <td>1</td>\n",
       "      <td>1</td>\n",
       "    </tr>\n",
       "    <tr>\n",
       "      <th>3</th>\n",
       "      <td>0</td>\n",
       "      <td>1</td>\n",
       "      <td>0</td>\n",
       "      <td>0</td>\n",
       "      <td>0</td>\n",
       "      <td>0</td>\n",
       "      <td>0</td>\n",
       "      <td>0</td>\n",
       "      <td>1</td>\n",
       "      <td>0</td>\n",
       "      <td>...</td>\n",
       "      <td>0</td>\n",
       "      <td>5</td>\n",
       "      <td>2</td>\n",
       "      <td>10</td>\n",
       "      <td>10</td>\n",
       "      <td>10</td>\n",
       "      <td>10</td>\n",
       "      <td>10</td>\n",
       "      <td>2</td>\n",
       "      <td>0</td>\n",
       "    </tr>\n",
       "    <tr>\n",
       "      <th>4</th>\n",
       "      <td>1</td>\n",
       "      <td>0</td>\n",
       "      <td>0</td>\n",
       "      <td>0</td>\n",
       "      <td>0</td>\n",
       "      <td>0</td>\n",
       "      <td>0</td>\n",
       "      <td>0</td>\n",
       "      <td>1</td>\n",
       "      <td>0</td>\n",
       "      <td>...</td>\n",
       "      <td>1</td>\n",
       "      <td>5</td>\n",
       "      <td>2</td>\n",
       "      <td>10</td>\n",
       "      <td>10</td>\n",
       "      <td>10</td>\n",
       "      <td>10</td>\n",
       "      <td>10</td>\n",
       "      <td>2</td>\n",
       "      <td>0</td>\n",
       "    </tr>\n",
       "  </tbody>\n",
       "</table>\n",
       "<p>5 rows × 29 columns</p>\n",
       "</div>"
      ],
      "text/plain": [
       "   18-24  25-34  35-44  45-54  55-64  65  Female  \\\n",
       "0      0      0      1      0      0   0       1   \n",
       "1      0      1      0      0      0   0       1   \n",
       "2      0      1      0      0      0   0       0   \n",
       "3      0      1      0      0      0   0       0   \n",
       "4      1      0      0      0      0   0       0   \n",
       "\n",
       "   Gender Variant/Non-Conforming  Male  College  ...  White or Caucasian  \\\n",
       "0                              0     0        0  ...                   0   \n",
       "1                              0     0        0  ...                   1   \n",
       "2                              1     0        0  ...                   1   \n",
       "3                              0     1        0  ...                   0   \n",
       "4                              0     1        0  ...                   1   \n",
       "\n",
       "   MFA Familiarity Count  Security Beliefs  Security Importance  \\\n",
       "0                      4                 2                   10   \n",
       "1                      6                 2                    7   \n",
       "2                      4                 2                    6   \n",
       "3                      5                 2                   10   \n",
       "4                      5                 2                   10   \n",
       "\n",
       "   Quick Log In Importance  Log In Usability Importance  \\\n",
       "0                        9                           10   \n",
       "1                       10                            9   \n",
       "2                        8                            8   \n",
       "3                       10                           10   \n",
       "4                       10                           10   \n",
       "\n",
       "   Log In Convenience Importance  Log In Satisfaction  MFA Opt In Frequency  \\\n",
       "0                              9                    8                     2   \n",
       "1                              7                    8                     1   \n",
       "2                              8                    7                     1   \n",
       "3                             10                   10                     2   \n",
       "4                             10                   10                     2   \n",
       "\n",
       "   Present Bias  \n",
       "0             1  \n",
       "1             1  \n",
       "2             1  \n",
       "3             0  \n",
       "4             0  \n",
       "\n",
       "[5 rows x 29 columns]"
      ]
     },
     "execution_count": 45,
     "metadata": {},
     "output_type": "execute_result"
    }
   ],
   "source": [
    "# 1. Import the data\n",
    "data = pd.read_csv('demo_factors_ohe.csv')\n",
    "data.head()"
   ]
  },
  {
   "cell_type": "code",
   "execution_count": 46,
   "metadata": {},
   "outputs": [
    {
     "data": {
      "text/html": [
       "<div>\n",
       "<style scoped>\n",
       "    .dataframe tbody tr th:only-of-type {\n",
       "        vertical-align: middle;\n",
       "    }\n",
       "\n",
       "    .dataframe tbody tr th {\n",
       "        vertical-align: top;\n",
       "    }\n",
       "\n",
       "    .dataframe thead th {\n",
       "        text-align: right;\n",
       "    }\n",
       "</style>\n",
       "<table border=\"1\" class=\"dataframe\">\n",
       "  <thead>\n",
       "    <tr style=\"text-align: right;\">\n",
       "      <th></th>\n",
       "      <th>18-24</th>\n",
       "      <th>25-34</th>\n",
       "      <th>35-44</th>\n",
       "      <th>45-54</th>\n",
       "      <th>55-64</th>\n",
       "      <th>65</th>\n",
       "      <th>Female</th>\n",
       "      <th>Gender Variant/Non-Conforming</th>\n",
       "      <th>Male</th>\n",
       "      <th>College</th>\n",
       "      <th>...</th>\n",
       "      <th>White or Caucasian</th>\n",
       "      <th>MFA Familiarity Count</th>\n",
       "      <th>Security Beliefs</th>\n",
       "      <th>Security Importance</th>\n",
       "      <th>Quick Log In Importance</th>\n",
       "      <th>Log In Usability Importance</th>\n",
       "      <th>Log In Convenience Importance</th>\n",
       "      <th>Log In Satisfaction</th>\n",
       "      <th>MFA Opt In Frequency</th>\n",
       "      <th>Present Bias</th>\n",
       "    </tr>\n",
       "  </thead>\n",
       "  <tbody>\n",
       "    <tr>\n",
       "      <th>0</th>\n",
       "      <td>0.000000</td>\n",
       "      <td>0.000000</td>\n",
       "      <td>0.046881</td>\n",
       "      <td>0.0</td>\n",
       "      <td>0.0</td>\n",
       "      <td>0.0</td>\n",
       "      <td>0.046881</td>\n",
       "      <td>0.000000</td>\n",
       "      <td>0.000000</td>\n",
       "      <td>0.0</td>\n",
       "      <td>...</td>\n",
       "      <td>0.000000</td>\n",
       "      <td>0.187523</td>\n",
       "      <td>0.093761</td>\n",
       "      <td>0.468807</td>\n",
       "      <td>0.421927</td>\n",
       "      <td>0.468807</td>\n",
       "      <td>0.421927</td>\n",
       "      <td>0.375046</td>\n",
       "      <td>0.093761</td>\n",
       "      <td>0.046881</td>\n",
       "    </tr>\n",
       "    <tr>\n",
       "      <th>1</th>\n",
       "      <td>0.000000</td>\n",
       "      <td>0.050702</td>\n",
       "      <td>0.000000</td>\n",
       "      <td>0.0</td>\n",
       "      <td>0.0</td>\n",
       "      <td>0.0</td>\n",
       "      <td>0.050702</td>\n",
       "      <td>0.000000</td>\n",
       "      <td>0.000000</td>\n",
       "      <td>0.0</td>\n",
       "      <td>...</td>\n",
       "      <td>0.050702</td>\n",
       "      <td>0.304212</td>\n",
       "      <td>0.101404</td>\n",
       "      <td>0.354914</td>\n",
       "      <td>0.507020</td>\n",
       "      <td>0.456318</td>\n",
       "      <td>0.354914</td>\n",
       "      <td>0.405616</td>\n",
       "      <td>0.050702</td>\n",
       "      <td>0.050702</td>\n",
       "    </tr>\n",
       "    <tr>\n",
       "      <th>2</th>\n",
       "      <td>0.000000</td>\n",
       "      <td>0.057448</td>\n",
       "      <td>0.000000</td>\n",
       "      <td>0.0</td>\n",
       "      <td>0.0</td>\n",
       "      <td>0.0</td>\n",
       "      <td>0.000000</td>\n",
       "      <td>0.057448</td>\n",
       "      <td>0.000000</td>\n",
       "      <td>0.0</td>\n",
       "      <td>...</td>\n",
       "      <td>0.057448</td>\n",
       "      <td>0.229794</td>\n",
       "      <td>0.114897</td>\n",
       "      <td>0.344691</td>\n",
       "      <td>0.459588</td>\n",
       "      <td>0.459588</td>\n",
       "      <td>0.459588</td>\n",
       "      <td>0.402139</td>\n",
       "      <td>0.057448</td>\n",
       "      <td>0.057448</td>\n",
       "    </tr>\n",
       "    <tr>\n",
       "      <th>3</th>\n",
       "      <td>0.000000</td>\n",
       "      <td>0.043153</td>\n",
       "      <td>0.000000</td>\n",
       "      <td>0.0</td>\n",
       "      <td>0.0</td>\n",
       "      <td>0.0</td>\n",
       "      <td>0.000000</td>\n",
       "      <td>0.000000</td>\n",
       "      <td>0.043153</td>\n",
       "      <td>0.0</td>\n",
       "      <td>...</td>\n",
       "      <td>0.000000</td>\n",
       "      <td>0.215766</td>\n",
       "      <td>0.086306</td>\n",
       "      <td>0.431532</td>\n",
       "      <td>0.431532</td>\n",
       "      <td>0.431532</td>\n",
       "      <td>0.431532</td>\n",
       "      <td>0.431532</td>\n",
       "      <td>0.086306</td>\n",
       "      <td>0.000000</td>\n",
       "    </tr>\n",
       "    <tr>\n",
       "      <th>4</th>\n",
       "      <td>0.043153</td>\n",
       "      <td>0.000000</td>\n",
       "      <td>0.000000</td>\n",
       "      <td>0.0</td>\n",
       "      <td>0.0</td>\n",
       "      <td>0.0</td>\n",
       "      <td>0.000000</td>\n",
       "      <td>0.000000</td>\n",
       "      <td>0.043153</td>\n",
       "      <td>0.0</td>\n",
       "      <td>...</td>\n",
       "      <td>0.043153</td>\n",
       "      <td>0.215766</td>\n",
       "      <td>0.086306</td>\n",
       "      <td>0.431532</td>\n",
       "      <td>0.431532</td>\n",
       "      <td>0.431532</td>\n",
       "      <td>0.431532</td>\n",
       "      <td>0.431532</td>\n",
       "      <td>0.086306</td>\n",
       "      <td>0.000000</td>\n",
       "    </tr>\n",
       "  </tbody>\n",
       "</table>\n",
       "<p>5 rows × 29 columns</p>\n",
       "</div>"
      ],
      "text/plain": [
       "      18-24     25-34     35-44  45-54  55-64   65    Female  \\\n",
       "0  0.000000  0.000000  0.046881    0.0    0.0  0.0  0.046881   \n",
       "1  0.000000  0.050702  0.000000    0.0    0.0  0.0  0.050702   \n",
       "2  0.000000  0.057448  0.000000    0.0    0.0  0.0  0.000000   \n",
       "3  0.000000  0.043153  0.000000    0.0    0.0  0.0  0.000000   \n",
       "4  0.043153  0.000000  0.000000    0.0    0.0  0.0  0.000000   \n",
       "\n",
       "   Gender Variant/Non-Conforming      Male  College  ...  White or Caucasian  \\\n",
       "0                       0.000000  0.000000      0.0  ...            0.000000   \n",
       "1                       0.000000  0.000000      0.0  ...            0.050702   \n",
       "2                       0.057448  0.000000      0.0  ...            0.057448   \n",
       "3                       0.000000  0.043153      0.0  ...            0.000000   \n",
       "4                       0.000000  0.043153      0.0  ...            0.043153   \n",
       "\n",
       "   MFA Familiarity Count  Security Beliefs  Security Importance  \\\n",
       "0               0.187523          0.093761             0.468807   \n",
       "1               0.304212          0.101404             0.354914   \n",
       "2               0.229794          0.114897             0.344691   \n",
       "3               0.215766          0.086306             0.431532   \n",
       "4               0.215766          0.086306             0.431532   \n",
       "\n",
       "   Quick Log In Importance  Log In Usability Importance  \\\n",
       "0                 0.421927                     0.468807   \n",
       "1                 0.507020                     0.456318   \n",
       "2                 0.459588                     0.459588   \n",
       "3                 0.431532                     0.431532   \n",
       "4                 0.431532                     0.431532   \n",
       "\n",
       "   Log In Convenience Importance  Log In Satisfaction  MFA Opt In Frequency  \\\n",
       "0                       0.421927             0.375046              0.093761   \n",
       "1                       0.354914             0.405616              0.050702   \n",
       "2                       0.459588             0.402139              0.057448   \n",
       "3                       0.431532             0.431532              0.086306   \n",
       "4                       0.431532             0.431532              0.086306   \n",
       "\n",
       "   Present Bias  \n",
       "0      0.046881  \n",
       "1      0.050702  \n",
       "2      0.057448  \n",
       "3      0.000000  \n",
       "4      0.000000  \n",
       "\n",
       "[5 rows x 29 columns]"
      ]
     },
     "execution_count": 46,
     "metadata": {},
     "output_type": "execute_result"
    }
   ],
   "source": [
    "# 2. Scale the data\n",
    "from sklearn.preprocessing import normalize\n",
    "data_scaled = normalize(data)\n",
    "data_scaled = pd.DataFrame(data_scaled, columns=data.columns)\n",
    "data_scaled.head()"
   ]
  },
  {
   "cell_type": "code",
   "execution_count": 53,
   "metadata": {},
   "outputs": [
    {
     "data": {
      "image/png": "[encoded data removed]",
      "text/plain": [
       "<Figure size 720x504 with 1 Axes>"
      ]
     },
     "metadata": {
      "needs_background": "light"
     },
     "output_type": "display_data"
    }
   ],
   "source": [
    "# 3. Cluster the data\n",
    "import scipy.cluster.hierarchy as shc\n",
    "plt.figure(figsize=(10, 7))  \n",
    "plt.title(\"All Factors Dendrograms\")  \n",
    "dend = shc.dendrogram(shc.linkage(data_scaled, method='ward'))"
   ]
  },
  {
   "cell_type": "code",
   "execution_count": 48,
   "metadata": {},
   "outputs": [
    {
     "data": {
      "text/plain": [
       "<matplotlib.lines.Line2D at 0x7fe728432ac0>"
      ]
     },
     "execution_count": 48,
     "metadata": {},
     "output_type": "execute_result"
    },
    {
     "data": {
      "image/png": "[encoded data removed]",
      "text/plain": [
       "<Figure size 720x504 with 1 Axes>"
      ]
     },
     "metadata": {
      "needs_background": "light"
     },
     "output_type": "display_data"
    }
   ],
   "source": [
    "# reset the threshold\n",
    "plt.figure(figsize=(10, 7))  \n",
    "plt.title(\"Dendrograms\")  \n",
    "dend = shc.dendrogram(shc.linkage(data_scaled, method='ward'))\n",
    "plt.axhline(y=1.0, color='r', linestyle='--')"
   ]
  },
  {
   "cell_type": "code",
   "execution_count": 50,
   "metadata": {
    "scrolled": true
   },
   "outputs": [
    {
     "data": {
      "text/plain": [
       "array([1, 1, 1, 0, 0, 0, 0, 2, 1, 2, 1, 0, 1, 2, 2, 0, 0, 1, 0, 1, 3, 0,\n",
       "       0, 0, 1, 0, 2, 1, 2, 0, 1, 2, 3, 0, 1, 1, 0, 2, 1, 0, 1, 1, 3, 1,\n",
       "       2, 1, 3, 1, 1, 1, 1, 0, 0, 2, 0, 2, 1, 1, 0, 0, 0, 0, 1, 1, 1, 0,\n",
       "       3, 0, 1, 1, 1, 0, 0, 1, 2, 2, 1, 3, 1, 3, 2, 1, 2, 1, 0, 0, 1, 0,\n",
       "       0, 0, 0, 1, 1, 1, 0, 3, 1, 0, 0, 1, 1, 1, 0, 1, 0, 1, 1, 0, 0, 1,\n",
       "       1, 2, 0, 0, 0, 2, 2, 1, 3, 0, 1, 0, 1, 3, 3, 3, 0, 0, 0, 1, 0, 2,\n",
       "       0, 1, 1, 1, 3, 0, 0, 1, 0, 0, 2, 1, 1, 1, 3, 0, 1, 1, 3, 1, 2, 1,\n",
       "       1, 0, 3, 0, 1, 1, 2, 1, 0, 1, 1, 2, 0, 0, 1, 1, 0, 1, 0, 3, 1, 1,\n",
       "       0, 3, 1, 0, 0, 2, 2, 1, 3, 3])"
      ]
     },
     "execution_count": 50,
     "metadata": {},
     "output_type": "execute_result"
    }
   ],
   "source": [
    "from sklearn.cluster import AgglomerativeClustering\n",
    "cluster = AgglomerativeClustering(n_clusters=4, affinity='euclidean', linkage='ward')  \n",
    "cluster.fit_predict(data_scaled)"
   ]
  },
  {
   "cell_type": "code",
   "execution_count": 51,
   "metadata": {},
   "outputs": [
    {
     "data": {
      "text/plain": [
       "<matplotlib.collections.PathCollection at 0x7fe7286325e0>"
      ]
     },
     "execution_count": 51,
     "metadata": {},
     "output_type": "execute_result"
    },
    {
     "data": {
      "image/png": "[encoded data removed]",
      "text/plain": [
       "<Figure size 720x504 with 1 Axes>"
      ]
     },
     "metadata": {
      "needs_background": "light"
     },
     "output_type": "display_data"
    }
   ],
   "source": [
    "plt.figure(figsize=(10, 7))  \n",
    "plt.scatter(data_scaled['White or Caucasian'], data_scaled['MFA Familiarity Count'], c=cluster.labels_)"
   ]
  },
  {
   "cell_type": "code",
   "execution_count": 52,
   "metadata": {},
   "outputs": [
    {
     "data": {
      "text/plain": [
       "<matplotlib.collections.PathCollection at 0x7fe7286f1c70>"
      ]
     },
     "execution_count": 52,
     "metadata": {},
     "output_type": "execute_result"
    },
    {
     "data": {
      "image/png": "[encoded data removed]",
      "text/plain": [
       "<Figure size 720x504 with 1 Axes>"
      ]
     },
     "metadata": {
      "needs_background": "light"
     },
     "output_type": "display_data"
    }
   ],
   "source": [
    "plt.figure(figsize=(10, 7))  \n",
    "plt.scatter(data_scaled['Asian or Pacific Islander'], data_scaled['MFA Familiarity Count'], c=cluster.labels_)"
   ]
  },
  {
   "cell_type": "code",
   "execution_count": 53,
   "metadata": {},
   "outputs": [
    {
     "data": {
      "text/plain": [
       "<matplotlib.collections.PathCollection at 0x7fe728462eb0>"
      ]
     },
     "execution_count": 53,
     "metadata": {},
     "output_type": "execute_result"
    },
    {
     "data": {
      "image/png": "[encoded data removed]",
      "text/plain": [
       "<Figure size 720x504 with 1 Axes>"
      ]
     },
     "metadata": {
      "needs_background": "light"
     },
     "output_type": "display_data"
    }
   ],
   "source": [
    "plt.figure(figsize=(10, 7))  \n",
    "plt.scatter(data_scaled['Black or African American'], data_scaled['MFA Familiarity Count'], c=cluster.labels_)"
   ]
  },
  {
   "cell_type": "code",
   "execution_count": 54,
   "metadata": {},
   "outputs": [
    {
     "data": {
      "text/plain": [
       "<matplotlib.collections.PathCollection at 0x7fe728c3dca0>"
      ]
     },
     "execution_count": 54,
     "metadata": {},
     "output_type": "execute_result"
    },
    {
     "data": {
      "image/png": "[encoded data removed]",
      "text/plain": [
       "<Figure size 720x504 with 1 Axes>"
      ]
     },
     "metadata": {
      "needs_background": "light"
     },
     "output_type": "display_data"
    }
   ],
   "source": [
    "plt.figure(figsize=(10, 7))  \n",
    "plt.scatter(data_scaled['Black or African American'], data_scaled['Security Importance'], c=cluster.labels_)"
   ]
  },
  {
   "cell_type": "markdown",
   "metadata": {},
   "source": [
    "## Ethnicity Data Hierarchical Clustering"
   ]
  },
  {
   "cell_type": "code",
   "execution_count": 55,
   "metadata": {},
   "outputs": [],
   "source": [
    "data = pd.read_csv('demo_factors_ohe.csv')"
   ]
  },
  {
   "cell_type": "code",
   "execution_count": 56,
   "metadata": {},
   "outputs": [
    {
     "data": {
      "text/plain": [
       "Index(['18-24', '25-34', '35-44', '45-54', '55-64', '65', 'Female',\n",
       "       'Gender Variant/Non-Conforming', 'Male', 'College', 'Elementary School',\n",
       "       'Graduate School', 'High School', 'Prefer Not to Answer',\n",
       "       'Asian or Pacific Islander', 'Black or African American',\n",
       "       'Hispanic or Latino', 'Indian', 'Two or more races',\n",
       "       'White or Caucasian', 'MFA Familiarity Count', 'Security Beliefs',\n",
       "       'Security Importance', 'Quick Log In Importance',\n",
       "       'Log In Usability Importance', 'Log In Convenience Importance',\n",
       "       'Log In Satisfaction', 'MFA Opt In Frequency', 'Present Bias'],\n",
       "      dtype='object')"
      ]
     },
     "execution_count": 56,
     "metadata": {},
     "output_type": "execute_result"
    }
   ],
   "source": [
    "data.columns\n"
   ]
  },
  {
   "cell_type": "code",
   "execution_count": 57,
   "metadata": {},
   "outputs": [],
   "source": [
    "data_eth = data.iloc[:,14:21]\n",
    "data = data_eth"
   ]
  },
  {
   "cell_type": "code",
   "execution_count": 58,
   "metadata": {},
   "outputs": [
    {
     "data": {
      "text/html": [
       "<div>\n",
       "<style scoped>\n",
       "    .dataframe tbody tr th:only-of-type {\n",
       "        vertical-align: middle;\n",
       "    }\n",
       "\n",
       "    .dataframe tbody tr th {\n",
       "        vertical-align: top;\n",
       "    }\n",
       "\n",
       "    .dataframe thead th {\n",
       "        text-align: right;\n",
       "    }\n",
       "</style>\n",
       "<table border=\"1\" class=\"dataframe\">\n",
       "  <thead>\n",
       "    <tr style=\"text-align: right;\">\n",
       "      <th></th>\n",
       "      <th>Asian or Pacific Islander</th>\n",
       "      <th>Black or African American</th>\n",
       "      <th>Hispanic or Latino</th>\n",
       "      <th>Indian</th>\n",
       "      <th>Two or more races</th>\n",
       "      <th>White or Caucasian</th>\n",
       "      <th>MFA Familiarity Count</th>\n",
       "    </tr>\n",
       "  </thead>\n",
       "  <tbody>\n",
       "    <tr>\n",
       "      <th>0</th>\n",
       "      <td>0.0</td>\n",
       "      <td>0.000000</td>\n",
       "      <td>0.0</td>\n",
       "      <td>0.0</td>\n",
       "      <td>0.242536</td>\n",
       "      <td>0.000000</td>\n",
       "      <td>0.970143</td>\n",
       "    </tr>\n",
       "    <tr>\n",
       "      <th>1</th>\n",
       "      <td>0.0</td>\n",
       "      <td>0.000000</td>\n",
       "      <td>0.0</td>\n",
       "      <td>0.0</td>\n",
       "      <td>0.000000</td>\n",
       "      <td>0.164399</td>\n",
       "      <td>0.986394</td>\n",
       "    </tr>\n",
       "    <tr>\n",
       "      <th>2</th>\n",
       "      <td>0.0</td>\n",
       "      <td>0.000000</td>\n",
       "      <td>0.0</td>\n",
       "      <td>0.0</td>\n",
       "      <td>0.000000</td>\n",
       "      <td>0.242536</td>\n",
       "      <td>0.970143</td>\n",
       "    </tr>\n",
       "    <tr>\n",
       "      <th>3</th>\n",
       "      <td>0.0</td>\n",
       "      <td>0.196116</td>\n",
       "      <td>0.0</td>\n",
       "      <td>0.0</td>\n",
       "      <td>0.000000</td>\n",
       "      <td>0.000000</td>\n",
       "      <td>0.980581</td>\n",
       "    </tr>\n",
       "    <tr>\n",
       "      <th>4</th>\n",
       "      <td>0.0</td>\n",
       "      <td>0.000000</td>\n",
       "      <td>0.0</td>\n",
       "      <td>0.0</td>\n",
       "      <td>0.000000</td>\n",
       "      <td>0.196116</td>\n",
       "      <td>0.980581</td>\n",
       "    </tr>\n",
       "  </tbody>\n",
       "</table>\n",
       "</div>"
      ],
      "text/plain": [
       "   Asian or Pacific Islander  Black or African American  Hispanic or Latino  \\\n",
       "0                        0.0                   0.000000                 0.0   \n",
       "1                        0.0                   0.000000                 0.0   \n",
       "2                        0.0                   0.000000                 0.0   \n",
       "3                        0.0                   0.196116                 0.0   \n",
       "4                        0.0                   0.000000                 0.0   \n",
       "\n",
       "   Indian  Two or more races  White or Caucasian  MFA Familiarity Count  \n",
       "0     0.0           0.242536            0.000000               0.970143  \n",
       "1     0.0           0.000000            0.164399               0.986394  \n",
       "2     0.0           0.000000            0.242536               0.970143  \n",
       "3     0.0           0.000000            0.000000               0.980581  \n",
       "4     0.0           0.000000            0.196116               0.980581  "
      ]
     },
     "execution_count": 58,
     "metadata": {},
     "output_type": "execute_result"
    }
   ],
   "source": [
    "from sklearn.preprocessing import normalize\n",
    "data_scaled = normalize(data)\n",
    "data_scaled = pd.DataFrame(data_scaled, columns=data.columns)\n",
    "data_scaled.head()"
   ]
  },
  {
   "cell_type": "code",
   "execution_count": 59,
   "metadata": {},
   "outputs": [
    {
     "data": {
      "image/png": "[encoded data removed]",
      "text/plain": [
       "<Figure size 720x504 with 1 Axes>"
      ]
     },
     "metadata": {
      "needs_background": "light"
     },
     "output_type": "display_data"
    }
   ],
   "source": [
    "import scipy.cluster.hierarchy as shc\n",
    "plt.figure(figsize=(10, 7))  \n",
    "plt.title(\"Dendrograms\")  \n",
    "dend = shc.dendrogram(shc.linkage(data_scaled, method='ward'))"
   ]
  },
  {
   "cell_type": "code",
   "execution_count": 60,
   "metadata": {},
   "outputs": [
    {
     "data": {
      "text/plain": [
       "<matplotlib.lines.Line2D at 0x7fe72916a940>"
      ]
     },
     "execution_count": 60,
     "metadata": {},
     "output_type": "execute_result"
    },
    {
     "data": {
      "image/png": "[encoded data removed]",
      "text/plain": [
       "<Figure size 720x504 with 1 Axes>"
      ]
     },
     "metadata": {
      "needs_background": "light"
     },
     "output_type": "display_data"
    }
   ],
   "source": [
    "plt.figure(figsize=(10, 7))  \n",
    "plt.title(\"Dendrograms\")  \n",
    "dend = shc.dendrogram(shc.linkage(data_scaled, method='ward'))\n",
    "plt.axhline(y=2, color='r', linestyle='--')"
   ]
  },
  {
   "cell_type": "code",
   "execution_count": 61,
   "metadata": {},
   "outputs": [
    {
     "data": {
      "text/plain": [
       "array([0, 1, 1, 0, 1, 0, 0, 1, 2, 1, 0, 0, 1, 0, 1, 2, 0, 1, 1, 0, 2, 0,\n",
       "       0, 2, 1, 0, 1, 1, 1, 2, 1, 2, 1, 0, 1, 0, 0, 1, 0, 0, 0, 1, 1, 0,\n",
       "       0, 0, 0, 1, 1, 1, 1, 0, 1, 2, 1, 0, 1, 1, 0, 0, 1, 0, 0, 1, 0, 0,\n",
       "       1, 2, 0, 2, 0, 1, 1, 2, 0, 0, 2, 0, 1, 0, 2, 0, 0, 1, 1, 1, 1, 0,\n",
       "       1, 0, 1, 1, 1, 0, 0, 2, 0, 1, 0, 0, 1, 1, 2, 0, 0, 0, 1, 0, 0, 0,\n",
       "       1, 2, 1, 0, 1, 0, 0, 1, 0, 0, 1, 0, 0, 0, 0, 0, 2, 0, 0, 2, 1, 2,\n",
       "       0, 2, 0, 0, 2, 0, 0, 0, 1, 1, 0, 1, 2, 1, 2, 1, 2, 0, 1, 2, 1, 1,\n",
       "       2, 0, 0, 0, 0, 1, 1, 2, 1, 2, 0, 0, 0, 0, 0, 0, 0, 0, 0, 0, 1, 1,\n",
       "       0, 1, 0, 2, 1, 1, 1, 1, 1, 0])"
      ]
     },
     "execution_count": 61,
     "metadata": {},
     "output_type": "execute_result"
    }
   ],
   "source": [
    "from sklearn.cluster import AgglomerativeClustering\n",
    "cluster = AgglomerativeClustering(n_clusters=3, affinity='euclidean', linkage='ward')  \n",
    "cluster.fit_predict(data_scaled)"
   ]
  },
  {
   "cell_type": "code",
   "execution_count": 62,
   "metadata": {},
   "outputs": [
    {
     "data": {
      "text/plain": [
       "<matplotlib.collections.PathCollection at 0x7fe7291bcca0>"
      ]
     },
     "execution_count": 62,
     "metadata": {},
     "output_type": "execute_result"
    },
    {
     "data": {
      "image/png": "[encoded data removed]",
      "text/plain": [
       "<Figure size 720x504 with 1 Axes>"
      ]
     },
     "metadata": {
      "needs_background": "light"
     },
     "output_type": "display_data"
    }
   ],
   "source": [
    "plt.figure(figsize=(10, 7))  \n",
    "plt.scatter(data_scaled['White or Caucasian'], data_scaled['MFA Familiarity Count'], c=cluster.labels_)"
   ]
  },
  {
   "cell_type": "code",
   "execution_count": 63,
   "metadata": {},
   "outputs": [
    {
     "data": {
      "text/plain": [
       "<matplotlib.collections.PathCollection at 0x7fe729317550>"
      ]
     },
     "execution_count": 63,
     "metadata": {},
     "output_type": "execute_result"
    },
    {
     "data": {
      "image/png": "[encoded data removed]",
      "text/plain": [
       "<Figure size 720x504 with 1 Axes>"
      ]
     },
     "metadata": {
      "needs_background": "light"
     },
     "output_type": "display_data"
    }
   ],
   "source": [
    "plt.figure(figsize=(10, 7))  \n",
    "plt.scatter(data_scaled['Asian or Pacific Islander'], data_scaled['MFA Familiarity Count'], c=cluster.labels_)"
   ]
  },
  {
   "cell_type": "code",
   "execution_count": null,
   "metadata": {},
   "outputs": [],
   "source": [
    "data_ = data.iloc[:,14:21]"
   ]
  },
  {
   "cell_type": "code",
   "execution_count": 9,
   "metadata": {},
   "outputs": [],
   "source": [
    "import pandas as pd\n",
    "import numpy as np\n",
    "import matplotlib.pyplot as plt\n",
    "%matplotlib inline\n",
    "# education: col 9-14\n",
    "\"\"\"\n",
    "# Using DataFrame.drop\n",
    "df.drop(df.columns[[1, 2]], axis=1, inplace=True)\n",
    "\n",
    "# drop by Name\n",
    "df1 = df1.drop(['B', 'C'], axis=1)\n",
    "\n",
    "# Select the ones you want\n",
    "df1 = df[['a','d']]\n",
    "\"\"\"\n",
    "data_ed = pd.read_csv('demo_factors_ohe.csv')"
   ]
  },
  {
   "cell_type": "markdown",
   "metadata": {},
   "source": [
    "#### Running Education against Opt In Frequency"
   ]
  },
  {
   "cell_type": "code",
   "execution_count": 50,
   "metadata": {},
   "outputs": [
    {
     "data": {
      "text/html": [
       "<div>\n",
       "<style scoped>\n",
       "    .dataframe tbody tr th:only-of-type {\n",
       "        vertical-align: middle;\n",
       "    }\n",
       "\n",
       "    .dataframe tbody tr th {\n",
       "        vertical-align: top;\n",
       "    }\n",
       "\n",
       "    .dataframe thead th {\n",
       "        text-align: right;\n",
       "    }\n",
       "</style>\n",
       "<table border=\"1\" class=\"dataframe\">\n",
       "  <thead>\n",
       "    <tr style=\"text-align: right;\">\n",
       "      <th></th>\n",
       "      <th>Prefer Not to Answer</th>\n",
       "      <th>MFA Familiarity Count</th>\n",
       "      <th>Security Beliefs</th>\n",
       "      <th>Security Importance</th>\n",
       "      <th>Quick Log In Importance</th>\n",
       "      <th>Log In Usability Importance</th>\n",
       "      <th>Log In Convenience Importance</th>\n",
       "      <th>Log In Satisfaction</th>\n",
       "      <th>MFA Opt In Frequency</th>\n",
       "    </tr>\n",
       "  </thead>\n",
       "  <tbody>\n",
       "    <tr>\n",
       "      <th>0</th>\n",
       "      <td>0</td>\n",
       "      <td>4</td>\n",
       "      <td>2</td>\n",
       "      <td>10</td>\n",
       "      <td>9</td>\n",
       "      <td>10</td>\n",
       "      <td>9</td>\n",
       "      <td>8</td>\n",
       "      <td>2</td>\n",
       "    </tr>\n",
       "    <tr>\n",
       "      <th>1</th>\n",
       "      <td>0</td>\n",
       "      <td>6</td>\n",
       "      <td>2</td>\n",
       "      <td>7</td>\n",
       "      <td>10</td>\n",
       "      <td>9</td>\n",
       "      <td>7</td>\n",
       "      <td>8</td>\n",
       "      <td>1</td>\n",
       "    </tr>\n",
       "    <tr>\n",
       "      <th>2</th>\n",
       "      <td>0</td>\n",
       "      <td>4</td>\n",
       "      <td>2</td>\n",
       "      <td>6</td>\n",
       "      <td>8</td>\n",
       "      <td>8</td>\n",
       "      <td>8</td>\n",
       "      <td>7</td>\n",
       "      <td>1</td>\n",
       "    </tr>\n",
       "    <tr>\n",
       "      <th>3</th>\n",
       "      <td>0</td>\n",
       "      <td>5</td>\n",
       "      <td>2</td>\n",
       "      <td>10</td>\n",
       "      <td>10</td>\n",
       "      <td>10</td>\n",
       "      <td>10</td>\n",
       "      <td>10</td>\n",
       "      <td>2</td>\n",
       "    </tr>\n",
       "    <tr>\n",
       "      <th>4</th>\n",
       "      <td>0</td>\n",
       "      <td>5</td>\n",
       "      <td>2</td>\n",
       "      <td>10</td>\n",
       "      <td>10</td>\n",
       "      <td>10</td>\n",
       "      <td>10</td>\n",
       "      <td>10</td>\n",
       "      <td>2</td>\n",
       "    </tr>\n",
       "    <tr>\n",
       "      <th>...</th>\n",
       "      <td>...</td>\n",
       "      <td>...</td>\n",
       "      <td>...</td>\n",
       "      <td>...</td>\n",
       "      <td>...</td>\n",
       "      <td>...</td>\n",
       "      <td>...</td>\n",
       "      <td>...</td>\n",
       "      <td>...</td>\n",
       "    </tr>\n",
       "    <tr>\n",
       "      <th>181</th>\n",
       "      <td>0</td>\n",
       "      <td>3</td>\n",
       "      <td>2</td>\n",
       "      <td>10</td>\n",
       "      <td>10</td>\n",
       "      <td>10</td>\n",
       "      <td>10</td>\n",
       "      <td>6</td>\n",
       "      <td>3</td>\n",
       "    </tr>\n",
       "    <tr>\n",
       "      <th>182</th>\n",
       "      <td>0</td>\n",
       "      <td>3</td>\n",
       "      <td>2</td>\n",
       "      <td>8</td>\n",
       "      <td>10</td>\n",
       "      <td>7</td>\n",
       "      <td>10</td>\n",
       "      <td>7</td>\n",
       "      <td>2</td>\n",
       "    </tr>\n",
       "    <tr>\n",
       "      <th>183</th>\n",
       "      <td>0</td>\n",
       "      <td>6</td>\n",
       "      <td>2</td>\n",
       "      <td>10</td>\n",
       "      <td>8</td>\n",
       "      <td>8</td>\n",
       "      <td>8</td>\n",
       "      <td>7</td>\n",
       "      <td>2</td>\n",
       "    </tr>\n",
       "    <tr>\n",
       "      <th>184</th>\n",
       "      <td>0</td>\n",
       "      <td>6</td>\n",
       "      <td>2</td>\n",
       "      <td>10</td>\n",
       "      <td>6</td>\n",
       "      <td>6</td>\n",
       "      <td>6</td>\n",
       "      <td>10</td>\n",
       "      <td>3</td>\n",
       "    </tr>\n",
       "    <tr>\n",
       "      <th>185</th>\n",
       "      <td>0</td>\n",
       "      <td>6</td>\n",
       "      <td>2</td>\n",
       "      <td>7</td>\n",
       "      <td>7</td>\n",
       "      <td>7</td>\n",
       "      <td>6</td>\n",
       "      <td>10</td>\n",
       "      <td>1</td>\n",
       "    </tr>\n",
       "  </tbody>\n",
       "</table>\n",
       "<p>186 rows × 9 columns</p>\n",
       "</div>"
      ],
      "text/plain": [
       "     Prefer Not to Answer  MFA Familiarity Count  Security Beliefs  \\\n",
       "0                       0                      4                 2   \n",
       "1                       0                      6                 2   \n",
       "2                       0                      4                 2   \n",
       "3                       0                      5                 2   \n",
       "4                       0                      5                 2   \n",
       "..                    ...                    ...               ...   \n",
       "181                     0                      3                 2   \n",
       "182                     0                      3                 2   \n",
       "183                     0                      6                 2   \n",
       "184                     0                      6                 2   \n",
       "185                     0                      6                 2   \n",
       "\n",
       "     Security Importance  Quick Log In Importance  \\\n",
       "0                     10                        9   \n",
       "1                      7                       10   \n",
       "2                      6                        8   \n",
       "3                     10                       10   \n",
       "4                     10                       10   \n",
       "..                   ...                      ...   \n",
       "181                   10                       10   \n",
       "182                    8                       10   \n",
       "183                   10                        8   \n",
       "184                   10                        6   \n",
       "185                    7                        7   \n",
       "\n",
       "     Log In Usability Importance  Log In Convenience Importance  \\\n",
       "0                             10                              9   \n",
       "1                              9                              7   \n",
       "2                              8                              8   \n",
       "3                             10                             10   \n",
       "4                             10                             10   \n",
       "..                           ...                            ...   \n",
       "181                           10                             10   \n",
       "182                            7                             10   \n",
       "183                            8                              8   \n",
       "184                            6                              6   \n",
       "185                            7                              6   \n",
       "\n",
       "     Log In Satisfaction  MFA Opt In Frequency  \n",
       "0                      8                     2  \n",
       "1                      8                     1  \n",
       "2                      7                     1  \n",
       "3                     10                     2  \n",
       "4                     10                     2  \n",
       "..                   ...                   ...  \n",
       "181                    6                     3  \n",
       "182                    7                     2  \n",
       "183                    7                     2  \n",
       "184                   10                     3  \n",
       "185                   10                     1  \n",
       "\n",
       "[186 rows x 9 columns]"
      ]
     },
     "execution_count": 50,
     "metadata": {},
     "output_type": "execute_result"
    }
   ],
   "source": [
    "data_ed_col = data_ed[['Prefer Not to Answer','MFA Familiarity Count', 'Security Beliefs', 'Security Importance', 'Quick Log In Importance','Log In Usability Importance', 'Log In Convenience Importance', 'Log In Satisfaction','MFA Opt In Frequency']]\n",
    "data_ed_col"
   ]
  },
  {
   "cell_type": "code",
   "execution_count": 51,
   "metadata": {},
   "outputs": [
    {
     "data": {
      "text/html": [
       "<div>\n",
       "<style scoped>\n",
       "    .dataframe tbody tr th:only-of-type {\n",
       "        vertical-align: middle;\n",
       "    }\n",
       "\n",
       "    .dataframe tbody tr th {\n",
       "        vertical-align: top;\n",
       "    }\n",
       "\n",
       "    .dataframe thead th {\n",
       "        text-align: right;\n",
       "    }\n",
       "</style>\n",
       "<table border=\"1\" class=\"dataframe\">\n",
       "  <thead>\n",
       "    <tr style=\"text-align: right;\">\n",
       "      <th></th>\n",
       "      <th>Prefer Not to Answer</th>\n",
       "      <th>MFA Familiarity Count</th>\n",
       "      <th>Security Beliefs</th>\n",
       "      <th>Security Importance</th>\n",
       "      <th>Quick Log In Importance</th>\n",
       "      <th>Log In Usability Importance</th>\n",
       "      <th>Log In Convenience Importance</th>\n",
       "      <th>Log In Satisfaction</th>\n",
       "      <th>MFA Opt In Frequency</th>\n",
       "    </tr>\n",
       "  </thead>\n",
       "  <tbody>\n",
       "    <tr>\n",
       "      <th>0</th>\n",
       "      <td>0.0</td>\n",
       "      <td>0.188562</td>\n",
       "      <td>0.094281</td>\n",
       "      <td>0.471405</td>\n",
       "      <td>0.424264</td>\n",
       "      <td>0.471405</td>\n",
       "      <td>0.424264</td>\n",
       "      <td>0.377124</td>\n",
       "      <td>0.094281</td>\n",
       "    </tr>\n",
       "    <tr>\n",
       "      <th>1</th>\n",
       "      <td>0.0</td>\n",
       "      <td>0.306186</td>\n",
       "      <td>0.102062</td>\n",
       "      <td>0.357217</td>\n",
       "      <td>0.510310</td>\n",
       "      <td>0.459279</td>\n",
       "      <td>0.357217</td>\n",
       "      <td>0.408248</td>\n",
       "      <td>0.051031</td>\n",
       "    </tr>\n",
       "    <tr>\n",
       "      <th>2</th>\n",
       "      <td>0.0</td>\n",
       "      <td>0.231714</td>\n",
       "      <td>0.115857</td>\n",
       "      <td>0.347571</td>\n",
       "      <td>0.463428</td>\n",
       "      <td>0.463428</td>\n",
       "      <td>0.463428</td>\n",
       "      <td>0.405499</td>\n",
       "      <td>0.057928</td>\n",
       "    </tr>\n",
       "    <tr>\n",
       "      <th>3</th>\n",
       "      <td>0.0</td>\n",
       "      <td>0.216574</td>\n",
       "      <td>0.086630</td>\n",
       "      <td>0.433148</td>\n",
       "      <td>0.433148</td>\n",
       "      <td>0.433148</td>\n",
       "      <td>0.433148</td>\n",
       "      <td>0.433148</td>\n",
       "      <td>0.086630</td>\n",
       "    </tr>\n",
       "    <tr>\n",
       "      <th>4</th>\n",
       "      <td>0.0</td>\n",
       "      <td>0.216574</td>\n",
       "      <td>0.086630</td>\n",
       "      <td>0.433148</td>\n",
       "      <td>0.433148</td>\n",
       "      <td>0.433148</td>\n",
       "      <td>0.433148</td>\n",
       "      <td>0.433148</td>\n",
       "      <td>0.086630</td>\n",
       "    </tr>\n",
       "  </tbody>\n",
       "</table>\n",
       "</div>"
      ],
      "text/plain": [
       "   Prefer Not to Answer  MFA Familiarity Count  Security Beliefs  \\\n",
       "0                   0.0               0.188562          0.094281   \n",
       "1                   0.0               0.306186          0.102062   \n",
       "2                   0.0               0.231714          0.115857   \n",
       "3                   0.0               0.216574          0.086630   \n",
       "4                   0.0               0.216574          0.086630   \n",
       "\n",
       "   Security Importance  Quick Log In Importance  Log In Usability Importance  \\\n",
       "0             0.471405                 0.424264                     0.471405   \n",
       "1             0.357217                 0.510310                     0.459279   \n",
       "2             0.347571                 0.463428                     0.463428   \n",
       "3             0.433148                 0.433148                     0.433148   \n",
       "4             0.433148                 0.433148                     0.433148   \n",
       "\n",
       "   Log In Convenience Importance  Log In Satisfaction  MFA Opt In Frequency  \n",
       "0                       0.424264             0.377124              0.094281  \n",
       "1                       0.357217             0.408248              0.051031  \n",
       "2                       0.463428             0.405499              0.057928  \n",
       "3                       0.433148             0.433148              0.086630  \n",
       "4                       0.433148             0.433148              0.086630  "
      ]
     },
     "execution_count": 51,
     "metadata": {},
     "output_type": "execute_result"
    }
   ],
   "source": [
    "from sklearn.preprocessing import normalize\n",
    "data_scaled = normalize(data_ed_col)\n",
    "data_scaled = pd.DataFrame(data_scaled, columns=data_ed_col.columns)\n",
    "data_scaled.head()"
   ]
  },
  {
   "cell_type": "code",
   "execution_count": 52,
   "metadata": {},
   "outputs": [
    {
     "data": {
      "image/png": "[encoded data removed]",
      "text/plain": [
       "<Figure size 720x504 with 1 Axes>"
      ]
     },
     "metadata": {
      "needs_background": "light"
     },
     "output_type": "display_data"
    }
   ],
   "source": [
    "import scipy.cluster.hierarchy as shc\n",
    "plt.figure(figsize=(10, 7))  \n",
    "plt.title(\"Prefer Not To Answer Dendrograms\")  \n",
    "dend = shc.dendrogram(shc.linkage(data_scaled, method='ward'))"
   ]
  },
  {
   "cell_type": "code",
   "execution_count": 46,
   "metadata": {},
   "outputs": [
    {
     "data": {
      "text/html": [
       "<div>\n",
       "<style scoped>\n",
       "    .dataframe tbody tr th:only-of-type {\n",
       "        vertical-align: middle;\n",
       "    }\n",
       "\n",
       "    .dataframe tbody tr th {\n",
       "        vertical-align: top;\n",
       "    }\n",
       "\n",
       "    .dataframe thead th {\n",
       "        text-align: right;\n",
       "    }\n",
       "</style>\n",
       "<table border=\"1\" class=\"dataframe\">\n",
       "  <thead>\n",
       "    <tr style=\"text-align: right;\">\n",
       "      <th></th>\n",
       "      <th>College</th>\n",
       "      <th>Elementary School</th>\n",
       "      <th>Graduate School</th>\n",
       "      <th>High School</th>\n",
       "      <th>Prefer Not to Answer</th>\n",
       "      <th>Log In Usability Importance</th>\n",
       "    </tr>\n",
       "  </thead>\n",
       "  <tbody>\n",
       "    <tr>\n",
       "      <th>0</th>\n",
       "      <td>0</td>\n",
       "      <td>0</td>\n",
       "      <td>1</td>\n",
       "      <td>0</td>\n",
       "      <td>0</td>\n",
       "      <td>10</td>\n",
       "    </tr>\n",
       "    <tr>\n",
       "      <th>1</th>\n",
       "      <td>0</td>\n",
       "      <td>0</td>\n",
       "      <td>1</td>\n",
       "      <td>0</td>\n",
       "      <td>0</td>\n",
       "      <td>9</td>\n",
       "    </tr>\n",
       "    <tr>\n",
       "      <th>2</th>\n",
       "      <td>0</td>\n",
       "      <td>0</td>\n",
       "      <td>0</td>\n",
       "      <td>1</td>\n",
       "      <td>0</td>\n",
       "      <td>8</td>\n",
       "    </tr>\n",
       "    <tr>\n",
       "      <th>3</th>\n",
       "      <td>0</td>\n",
       "      <td>0</td>\n",
       "      <td>0</td>\n",
       "      <td>1</td>\n",
       "      <td>0</td>\n",
       "      <td>10</td>\n",
       "    </tr>\n",
       "    <tr>\n",
       "      <th>4</th>\n",
       "      <td>0</td>\n",
       "      <td>0</td>\n",
       "      <td>1</td>\n",
       "      <td>0</td>\n",
       "      <td>0</td>\n",
       "      <td>10</td>\n",
       "    </tr>\n",
       "    <tr>\n",
       "      <th>...</th>\n",
       "      <td>...</td>\n",
       "      <td>...</td>\n",
       "      <td>...</td>\n",
       "      <td>...</td>\n",
       "      <td>...</td>\n",
       "      <td>...</td>\n",
       "    </tr>\n",
       "    <tr>\n",
       "      <th>181</th>\n",
       "      <td>0</td>\n",
       "      <td>0</td>\n",
       "      <td>1</td>\n",
       "      <td>0</td>\n",
       "      <td>0</td>\n",
       "      <td>10</td>\n",
       "    </tr>\n",
       "    <tr>\n",
       "      <th>182</th>\n",
       "      <td>0</td>\n",
       "      <td>0</td>\n",
       "      <td>0</td>\n",
       "      <td>1</td>\n",
       "      <td>0</td>\n",
       "      <td>7</td>\n",
       "    </tr>\n",
       "    <tr>\n",
       "      <th>183</th>\n",
       "      <td>1</td>\n",
       "      <td>0</td>\n",
       "      <td>0</td>\n",
       "      <td>0</td>\n",
       "      <td>0</td>\n",
       "      <td>8</td>\n",
       "    </tr>\n",
       "    <tr>\n",
       "      <th>184</th>\n",
       "      <td>1</td>\n",
       "      <td>0</td>\n",
       "      <td>0</td>\n",
       "      <td>0</td>\n",
       "      <td>0</td>\n",
       "      <td>6</td>\n",
       "    </tr>\n",
       "    <tr>\n",
       "      <th>185</th>\n",
       "      <td>1</td>\n",
       "      <td>0</td>\n",
       "      <td>0</td>\n",
       "      <td>0</td>\n",
       "      <td>0</td>\n",
       "      <td>7</td>\n",
       "    </tr>\n",
       "  </tbody>\n",
       "</table>\n",
       "<p>186 rows × 6 columns</p>\n",
       "</div>"
      ],
      "text/plain": [
       "     College  Elementary School  Graduate School  High School  \\\n",
       "0          0                  0                1            0   \n",
       "1          0                  0                1            0   \n",
       "2          0                  0                0            1   \n",
       "3          0                  0                0            1   \n",
       "4          0                  0                1            0   \n",
       "..       ...                ...              ...          ...   \n",
       "181        0                  0                1            0   \n",
       "182        0                  0                0            1   \n",
       "183        1                  0                0            0   \n",
       "184        1                  0                0            0   \n",
       "185        1                  0                0            0   \n",
       "\n",
       "     Prefer Not to Answer  Log In Usability Importance  \n",
       "0                       0                           10  \n",
       "1                       0                            9  \n",
       "2                       0                            8  \n",
       "3                       0                           10  \n",
       "4                       0                           10  \n",
       "..                    ...                          ...  \n",
       "181                     0                           10  \n",
       "182                     0                            7  \n",
       "183                     0                            8  \n",
       "184                     0                            6  \n",
       "185                     0                            7  \n",
       "\n",
       "[186 rows x 6 columns]"
      ]
     },
     "execution_count": 46,
     "metadata": {},
     "output_type": "execute_result"
    }
   ],
   "source": [
    "# 1. Select the data\n",
    "data_ed_col = data_ed[['College', 'Elementary School', 'Graduate School', 'High School', 'Prefer Not to Answer','Log In Usability Importance']]\n",
    "data_ed_col"
   ]
  },
  {
   "cell_type": "code",
   "execution_count": 22,
   "metadata": {},
   "outputs": [
    {
     "data": {
      "text/html": [
       "<div>\n",
       "<style scoped>\n",
       "    .dataframe tbody tr th:only-of-type {\n",
       "        vertical-align: middle;\n",
       "    }\n",
       "\n",
       "    .dataframe tbody tr th {\n",
       "        vertical-align: top;\n",
       "    }\n",
       "\n",
       "    .dataframe thead th {\n",
       "        text-align: right;\n",
       "    }\n",
       "</style>\n",
       "<table border=\"1\" class=\"dataframe\">\n",
       "  <thead>\n",
       "    <tr style=\"text-align: right;\">\n",
       "      <th></th>\n",
       "      <th>College</th>\n",
       "      <th>Elementary School</th>\n",
       "      <th>Graduate School</th>\n",
       "      <th>High School</th>\n",
       "      <th>Prefer Not to Answer</th>\n",
       "      <th>Log In Usability Importance</th>\n",
       "    </tr>\n",
       "  </thead>\n",
       "  <tbody>\n",
       "    <tr>\n",
       "      <th>0</th>\n",
       "      <td>0.0</td>\n",
       "      <td>0.0</td>\n",
       "      <td>0.099504</td>\n",
       "      <td>0.000000</td>\n",
       "      <td>0.0</td>\n",
       "      <td>0.995037</td>\n",
       "    </tr>\n",
       "    <tr>\n",
       "      <th>1</th>\n",
       "      <td>0.0</td>\n",
       "      <td>0.0</td>\n",
       "      <td>0.110432</td>\n",
       "      <td>0.000000</td>\n",
       "      <td>0.0</td>\n",
       "      <td>0.993884</td>\n",
       "    </tr>\n",
       "    <tr>\n",
       "      <th>2</th>\n",
       "      <td>0.0</td>\n",
       "      <td>0.0</td>\n",
       "      <td>0.000000</td>\n",
       "      <td>0.124035</td>\n",
       "      <td>0.0</td>\n",
       "      <td>0.992278</td>\n",
       "    </tr>\n",
       "    <tr>\n",
       "      <th>3</th>\n",
       "      <td>0.0</td>\n",
       "      <td>0.0</td>\n",
       "      <td>0.000000</td>\n",
       "      <td>0.099504</td>\n",
       "      <td>0.0</td>\n",
       "      <td>0.995037</td>\n",
       "    </tr>\n",
       "    <tr>\n",
       "      <th>4</th>\n",
       "      <td>0.0</td>\n",
       "      <td>0.0</td>\n",
       "      <td>0.099504</td>\n",
       "      <td>0.000000</td>\n",
       "      <td>0.0</td>\n",
       "      <td>0.995037</td>\n",
       "    </tr>\n",
       "  </tbody>\n",
       "</table>\n",
       "</div>"
      ],
      "text/plain": [
       "   College  Elementary School  Graduate School  High School  \\\n",
       "0      0.0                0.0         0.099504     0.000000   \n",
       "1      0.0                0.0         0.110432     0.000000   \n",
       "2      0.0                0.0         0.000000     0.124035   \n",
       "3      0.0                0.0         0.000000     0.099504   \n",
       "4      0.0                0.0         0.099504     0.000000   \n",
       "\n",
       "   Prefer Not to Answer  Log In Usability Importance  \n",
       "0                   0.0                     0.995037  \n",
       "1                   0.0                     0.993884  \n",
       "2                   0.0                     0.992278  \n",
       "3                   0.0                     0.995037  \n",
       "4                   0.0                     0.995037  "
      ]
     },
     "execution_count": 22,
     "metadata": {},
     "output_type": "execute_result"
    }
   ],
   "source": [
    "# 2. Normalize the data\n",
    "from sklearn.preprocessing import normalize\n",
    "data_scaled = normalize(data_ed_col)\n",
    "data_scaled = pd.DataFrame(data_scaled, columns=data_ed_col.columns)\n",
    "data_scaled.head()"
   ]
  },
  {
   "cell_type": "code",
   "execution_count": 23,
   "metadata": {},
   "outputs": [
    {
     "data": {
      "image/png": "[encoded data removed]",
      "text/plain": [
       "<Figure size 720x504 with 1 Axes>"
      ]
     },
     "metadata": {
      "needs_background": "light"
     },
     "output_type": "display_data"
    }
   ],
   "source": [
    "import scipy.cluster.hierarchy as shc\n",
    "plt.figure(figsize=(10, 7))  \n",
    "plt.title(\"Dendrograms\")  \n",
    "dend = shc.dendrogram(shc.linkage(data_scaled, method='ward'))"
   ]
  },
  {
   "cell_type": "code",
   "execution_count": 24,
   "metadata": {},
   "outputs": [
    {
     "data": {
      "text/plain": [
       "<matplotlib.lines.Line2D at 0x7f7f18ca06a0>"
      ]
     },
     "execution_count": 24,
     "metadata": {},
     "output_type": "execute_result"
    },
    {
     "data": {
      "image/png": "[encoded data removed]",
      "text/plain": [
       "<Figure size 720x504 with 1 Axes>"
      ]
     },
     "metadata": {
      "needs_background": "light"
     },
     "output_type": "display_data"
    }
   ],
   "source": [
    "# reset the threshold\n",
    "plt.figure(figsize=(10, 7))  \n",
    "plt.title(\"Dendrograms\")  \n",
    "dend = shc.dendrogram(shc.linkage(data_scaled, method='ward'))\n",
    "plt.axhline(y=1.0, color='r', linestyle='--')"
   ]
  },
  {
   "cell_type": "code",
   "execution_count": null,
   "metadata": {},
   "outputs": [],
   "source": []
  },
  {
   "cell_type": "code",
   "execution_count": null,
   "metadata": {},
   "outputs": [],
   "source": []
  },
  {
   "cell_type": "code",
   "execution_count": null,
   "metadata": {},
   "outputs": [],
   "source": []
  },
  {
   "cell_type": "code",
   "execution_count": null,
   "metadata": {},
   "outputs": [],
   "source": []
  }
 ],
 "metadata": {
  "kernelspec": {
   "display_name": "Python 3",
   "language": "python",
   "name": "python3"
  },
  "language_info": {
   "codemirror_mode": {
    "name": "ipython",
    "version": 3
   },
   "file_extension": ".py",
   "mimetype": "text/x-python",
   "name": "python",
   "nbconvert_exporter": "python",
   "pygments_lexer": "ipython3",
   "version": "3.8.5"
  }
 },
 "nbformat": 4,
 "nbformat_minor": 4
}
